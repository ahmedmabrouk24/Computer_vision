{
  "nbformat": 4,
  "nbformat_minor": 0,
  "metadata": {
    "colab": {
      "provenance": [],
      "mount_file_id": "1N3QLhWV6Vy5X61spQyzq9_NRatKH-n37",
      "authorship_tag": "ABX9TyMcTqKd75sScJ917SjgM54o",
      "include_colab_link": true
    },
    "kernelspec": {
      "name": "python3",
      "display_name": "Python 3"
    },
    "language_info": {
      "name": "python"
    }
  },
  "cells": [
    {
      "cell_type": "markdown",
      "metadata": {
        "id": "view-in-github",
        "colab_type": "text"
      },
      "source": [
        "<a href=\"https://colab.research.google.com/github/ahmedmabrouk24/Computer_vision/blob/main/verify_signature.ipynb\" target=\"_parent\"><img src=\"https://colab.research.google.com/assets/colab-badge.svg\" alt=\"Open In Colab\"/></a>"
      ]
    },
    {
      "cell_type": "code",
      "execution_count": 8,
      "metadata": {
        "id": "5jTtdoac2y36",
        "colab": {
          "base_uri": "https://localhost:8080/"
        },
        "outputId": "2b874007-37d7-41d9-888c-14f43927e312"
      },
      "outputs": [
        {
          "output_type": "stream",
          "name": "stdout",
          "text": [
            "Looking in indexes: https://pypi.org/simple, https://us-python.pkg.dev/colab-wheels/public/simple/\n",
            "Requirement already satisfied: tflearn in /usr/local/lib/python3.8/dist-packages (0.5.0)\n",
            "Requirement already satisfied: numpy in /usr/local/lib/python3.8/dist-packages (from tflearn) (1.21.6)\n",
            "Requirement already satisfied: Pillow in /usr/local/lib/python3.8/dist-packages (from tflearn) (7.1.2)\n",
            "Requirement already satisfied: six in /usr/local/lib/python3.8/dist-packages (from tflearn) (1.15.0)\n"
          ]
        }
      ],
      "source": [
        "pip install tflearn "
      ]
    },
    {
      "cell_type": "code",
      "source": [
        "from random import shuffle\n",
        "from tqdm import tqdm\n",
        "import tensorflow as tf\n",
        "import pandas as pd\n",
        "from tensorflow.keras import layers,models,Sequential\n",
        "from sklearn.model_selection import train_test_split\n",
        "from keras.models import Sequential\n",
        "from keras.layers import Dense, Dropout, Flatten\n",
        "from keras.layers import Conv2D, MaxPooling2D, BatchNormalization\n",
        "from tensorflow.keras.layers import Dense, Conv2D, Activation, Flatten, Dropout, BatchNormalization, MaxPooling2D\n",
        "from tensorflow.keras.optimizers import Adam\n",
        "from tensorflow.keras.losses import CategoricalCrossentropy, SparseCategoricalCrossentropy\n",
        "from sklearn.linear_model import LogisticRegression\n",
        "from skimage.feature import hog\n",
        "from sklearn.svm import SVC\n",
        "from keras.saving.save import load_model\n",
        "import tensorflow_datasets as tfds\n",
        "import matplotlib.pyplot as plt\n",
        "from sklearn.tree import DecisionTreeClassifier\n",
        "from sklearn.ensemble import RandomForestClassifier, AdaBoostClassifier\n",
        "from sklearn.neural_network import MLPClassifier\n",
        "from sklearn.gaussian_process import GaussianProcessClassifier\n",
        "from xgboost import XGBClassifier\n",
        "from sklearn.neighbors import KNeighborsClassifier\n",
        "import numpy as np\n",
        "import tflearn\n",
        "from tflearn.layers.conv import conv_2d, max_pool_2d\n",
        "from tflearn.layers.core import input_data, dropout, fully_connected\n",
        "from tflearn.layers.estimator import regression\n",
        "from sklearn.metrics import accuracy_score\n",
        "import tensorflow as tf\n",
        "import cv2\n",
        "import random\n",
        "import numpy as np\n",
        "import os\n",
        "import matplotlib.pyplot as plt\n",
        "import imageio\n",
        "import imgaug as ia\n",
        "import imgaug.augmenters as iaa\n",
        "import pickle\n",
        "from PIL import Image\n",
        "import shutil\n",
        "import json\n"
      ],
      "metadata": {
        "id": "bZoQwUqZ3TPc"
      },
      "execution_count": 133,
      "outputs": []
    },
    {
      "cell_type": "code",
      "source": [
        "TRAIN_DIR_A = '/content/drive/MyDrive/Computer Vision/Dataset_1/personA/Train'\n",
        "TRAIN_DIR_B = '/content/drive/MyDrive/Computer Vision/Dataset_1/personB/Train'\n",
        "TRAIN_DIR_C = '/content/drive/MyDrive/Computer Vision/Dataset_1/personC/Train'\n",
        "TRAIN_DIR_D = '/content/drive/MyDrive/Computer Vision/Dataset_1/personD/Train'\n",
        "TRAIN_DIR_E = '/content/drive/MyDrive/Computer Vision/Dataset_1/personE/Train'\n",
        "TRAIN_DIR=[]\n",
        "TRAIN_DIR.append(TRAIN_DIR_A)\n",
        "TRAIN_DIR.append(TRAIN_DIR_B)\n",
        "TRAIN_DIR.append(TRAIN_DIR_C)\n",
        "TRAIN_DIR.append(TRAIN_DIR_D)\n",
        "TRAIN_DIR.append(TRAIN_DIR_E)\n",
        "\n",
        "\n",
        "Test_DIR_A = '/content/drive/MyDrive/Computer Vision/Dataset_1/personA/Test'\n",
        "Test_DIR_B = '/content/drive/MyDrive/Computer Vision/Dataset_1/personB/Test'\n",
        "Test_DIR_C = '/content/drive/MyDrive/Computer Vision/Dataset_1/personC/Test'\n",
        "Test_DIR_D = '/content/drive/MyDrive/Computer Vision/Dataset_1/personD/Test'\n",
        "Test_DIR_E = '/content/drive/MyDrive/Computer Vision/Dataset_1/personE/Test'\n",
        "Test_DIR=[]\n",
        "Test_DIR.append(Test_DIR_A)\n",
        "Test_DIR.append(Test_DIR_B)\n",
        "Test_DIR.append(Test_DIR_C)\n",
        "Test_DIR.append(Test_DIR_D)\n",
        "Test_DIR.append(Test_DIR_E)\n",
        "\n",
        "PersonA_train_label='/content/drive/MyDrive/Computer Vision/Dataset_1/personA/Train/personA_SigVerificationTrainLabels.csv'\n",
        "PersonA_test_label='/content/drive/MyDrive/Computer Vision/Dataset_1/personA/Test/personA_SigVerificationTestLabels.csv'\n",
        "\n",
        "PersonB_train_label='/content/drive/MyDrive/Computer Vision/Dataset_1/personB/Train/personB_SigVerificationTrainLabels.csv'\n",
        "PersonB_test_label='/content/drive/MyDrive/Computer Vision/Dataset_1/personB/Test/personB_SigVerificationTestLabels.csv'\n",
        "\n",
        "PersonC_train_label='/content/drive/MyDrive/Computer Vision/Dataset_1/personC/Train/personC_SigVerificationTrainLabels.csv'\n",
        "PersonC_test_label='/content/drive/MyDrive/Computer Vision/Dataset_1/personC/Test/personC_SigVerificationTestLabels.csv'\n",
        "\n",
        "PersonD_train_label='/content/drive/MyDrive/Computer Vision/Dataset_1/personD/Train/personD_SigVerificationTrainLabels.csv'\n",
        "PersonD_test_label='/content/drive/MyDrive/Computer Vision/Dataset_1/personD/Test/personD_SigVerificationTestLabels.csv'\n",
        "\n",
        "PersonE_train_label='/content/drive/MyDrive/Computer Vision/Dataset_1/personE/Train/personE_SigVerificationTrainLabels.csv'\n",
        "PersonE_test_label='/content/drive/MyDrive/Computer Vision/Dataset_1/personE/Test/personE_SigVerificationTestLabels.csv'\n",
        "\n",
        "\n",
        "IMG_SIZE = 200\n",
        "num_classes = 5\n",
        "MODEL_NAME = 'signature_model1'\n"
      ],
      "metadata": {
        "id": "d18f5MQz3bGK"
      },
      "execution_count": 10,
      "outputs": []
    },
    {
      "cell_type": "code",
      "source": [
        "def create_label(image_name,status):\n",
        "    if image_name[6]=='A' and status=='train':\n",
        "      df = pd.read_csv(PersonA_train_label)\n",
        "    elif image_name[6]=='A' and status=='test':\n",
        "      df = pd.read_csv(PersonA_test_label) \n",
        "\n",
        "    elif image_name[6]=='B' and status=='train':\n",
        "       df = pd.read_csv(PersonB_train_label)\n",
        "    elif image_name[6]=='B' and status=='test':\n",
        "       df = pd.read_csv(PersonB_test_label)\n",
        "\n",
        "    elif image_name[6]=='C' and status=='train':\n",
        "       df = pd.read_csv(PersonC_train_label)\n",
        "    elif image_name[6]=='C' and status=='test':\n",
        "       df = pd.read_csv(PersonC_test_label)\n",
        "\n",
        "    elif image_name[6]=='D' and status=='train':\n",
        "       df = pd.read_csv(PersonD_train_label)\n",
        "    elif image_name[6]=='D' and status=='test':\n",
        "       df = pd.read_csv(PersonD_test_label)\n",
        "\n",
        "    elif image_name[6]=='E' and status=='train':\n",
        "       df = pd.read_csv(PersonE_train_label)\n",
        "    elif image_name[6]=='E' and status=='test':\n",
        "       df = pd.read_csv(PersonE_test_label)\n",
        "    x=False\n",
        "    for ind in df.index :\n",
        "      if image_name==df['image_name'][ind]:\n",
        "        x=True\n",
        "        if df['label'][ind]=='real':\n",
        "          return 1\n",
        "        else:\n",
        "          return 0\n",
        "    if x==False:\n",
        "      print(image_name)\n"
      ],
      "metadata": {
        "id": "Rz6gkQPg6B_R"
      },
      "execution_count": 11,
      "outputs": []
    },
    {
      "cell_type": "code",
      "source": [
        "x_train_imageA=[]\n",
        "x_train_imageB=[]\n",
        "x_train_imageC=[]\n",
        "x_train_imageD=[]\n",
        "x_train_imageE=[]\n",
        "\n",
        "y_train_imageA=[]\n",
        "y_train_imageB=[]\n",
        "y_train_imageC=[]\n",
        "y_train_imageD=[]\n",
        "y_train_imageE=[]\n",
        "\n",
        "\n",
        "x_test_imageA=[]\n",
        "x_test_imageB=[]\n",
        "x_test_imageC=[]\n",
        "x_test_imageD=[]\n",
        "x_test_imageE=[]\n",
        "\n",
        "y_test_imageA=[]\n",
        "y_test_imageB=[]\n",
        "y_test_imageC=[]\n",
        "y_test_imageD=[]\n",
        "y_test_imageE=[]\n"
      ],
      "metadata": {
        "id": "RXF2FpRy8BcV"
      },
      "execution_count": 12,
      "outputs": []
    },
    {
      "cell_type": "code",
      "source": [
        "def create_train_data():\n",
        "    \n",
        "\n",
        "    for path_TRAIN_DIR in tqdm(TRAIN_DIR):\n",
        "       for img in os.listdir(path_TRAIN_DIR):\n",
        "        if 'csv' in img:\n",
        "          continue\n",
        "        path = os.path.join(path_TRAIN_DIR, img)\n",
        "        img_data = cv2.imread(path,0) \n",
        "        img_data = cv2.resize(img_data, (IMG_SIZE, IMG_SIZE))\n",
        "\n",
        "        label = create_label(img,'train')\n",
        "        feature_discriptor, hog_img = hog(img_data, orientations = 9, pixels_per_cell = (8, 8),cells_per_block = (2, 2), visualize = True, multichannel = False)\n",
        "        \n",
        "        if img[6]=='A':\n",
        "           x_train_imageA.append(feature_discriptor)\n",
        "           y_train_imageA.append(label)\n",
        "        elif img[6]=='B':\n",
        "          x_train_imageB.append(feature_discriptor)\n",
        "          y_train_imageB.append(label)   \n",
        "        elif img[6]=='C':\n",
        "           x_train_imageC.append(feature_discriptor)\n",
        "           y_train_imageC.append(label)\n",
        "        elif img[6]=='D':\n",
        "           x_train_imageD.append(feature_discriptor)\n",
        "           y_train_imageD.append(label)\n",
        "        elif img[6]=='E':\n",
        "           x_train_imageE.append(feature_discriptor)\n",
        "           y_train_imageE.append(label)\n",
        "\n",
        "    \n"
      ],
      "metadata": {
        "id": "hziSZHeo6Iwg"
      },
      "execution_count": 20,
      "outputs": []
    },
    {
      "cell_type": "code",
      "source": [
        "column1=[]\n",
        "def create_test_data():\n",
        "    test_data = []\n",
        "\n",
        "    for path_Test_DIR in tqdm(Test_DIR):\n",
        "       for img in os.listdir(path_Test_DIR):\n",
        "        if 'csv' in img:\n",
        "          continue\n",
        "        column1.append(img)\n",
        "        path = os.path.join(path_Test_DIR, img)\n",
        "\n",
        "        img_data = cv2.imread(path,0) \n",
        "        img_data = cv2.resize(img_data, (IMG_SIZE, IMG_SIZE))\n",
        "        feature_discriptor, hog_img = hog(img_data, orientations = 9, pixels_per_cell = (8, 8),cells_per_block = (2, 2), visualize = True, multichannel = False)\n",
        "        label = create_label(img,'test')\n",
        "        \n",
        "        if img[6]=='A':\n",
        "           x_test_imageA.append(feature_discriptor)\n",
        "           y_test_imageA.append(label)\n",
        "        elif img[6]=='B':\n",
        "          x_test_imageB.append(feature_discriptor)\n",
        "          y_test_imageB.append(label)   \n",
        "        elif img[6]=='C':\n",
        "           x_test_imageC.append(feature_discriptor)\n",
        "           y_test_imageC.append(label)\n",
        "        elif img[6]=='D':\n",
        "           x_test_imageD.append(feature_discriptor)\n",
        "           y_test_imageD.append(label)\n",
        "        elif img[6]=='E':\n",
        "           x_test_imageE.append(feature_discriptor)\n",
        "           y_test_imageE.append(label)\n",
        "\n",
        "    "
      ],
      "metadata": {
        "id": "UFFulnCKydyb"
      },
      "execution_count": 18,
      "outputs": []
    },
    {
      "cell_type": "code",
      "source": [
        "create_train_data()\n",
        "create_test_data()\n"
      ],
      "metadata": {
        "colab": {
          "base_uri": "https://localhost:8080/"
        },
        "id": "9nZODg1g9QmU",
        "outputId": "f08b02ce-40bf-41e8-c2dd-6a8ad934904e"
      },
      "execution_count": 21,
      "outputs": [
        {
          "output_type": "stream",
          "name": "stderr",
          "text": [
            "100%|██████████| 5/5 [01:10<00:00, 14.01s/it]\n",
            "100%|██████████| 5/5 [00:15<00:00,  3.15s/it]\n"
          ]
        }
      ]
    },
    {
      "cell_type": "code",
      "source": [
        "DT = DecisionTreeClassifier()\n",
        "\n",
        "DT.fit(x_train_imageA,y_train_imageA)\n",
        "y_prid=DT.predict(x_test_imageA)\n",
        "print(accuracy_score(y_test_imageA,y_prid)*100)"
      ],
      "metadata": {
        "colab": {
          "base_uri": "https://localhost:8080/"
        },
        "id": "luLxZTEn5-Pm",
        "outputId": "f0a5887a-ac20-4cd2-d397-68676b6f284d"
      },
      "execution_count": 130,
      "outputs": [
        {
          "output_type": "stream",
          "name": "stdout",
          "text": [
            "87.5\n"
          ]
        }
      ]
    },
    {
      "cell_type": "code",
      "source": [
        "pickle.dump(DT, open('/content/drive/MyDrive/modelA', 'wb'))"
      ],
      "metadata": {
        "id": "kp5p3vUmHT9B"
      },
      "execution_count": 134,
      "outputs": []
    },
    {
      "cell_type": "code",
      "source": [
        "MLB = MLPClassifier()\n",
        "MLB.fit(x_train_imageB,y_train_imageB)\n",
        "y_prid=MLB.predict(x_test_imageB)\n",
        "print(accuracy_score(y_test_imageB,y_prid)*100)"
      ],
      "metadata": {
        "colab": {
          "base_uri": "https://localhost:8080/"
        },
        "id": "GOL6IfgIFXQw",
        "outputId": "588004a7-9a6e-4fb5-9fee-0845dddb4210"
      },
      "execution_count": 131,
      "outputs": [
        {
          "output_type": "stream",
          "name": "stdout",
          "text": [
            "87.5\n"
          ]
        }
      ]
    },
    {
      "cell_type": "code",
      "source": [
        "pickle.dump(MLB, open('/content/drive/MyDrive/modelB', 'wb'))"
      ],
      "metadata": {
        "id": "9VPa2ayEIc7Y"
      },
      "execution_count": 135,
      "outputs": []
    },
    {
      "cell_type": "code",
      "source": [
        "KNC = KNeighborsClassifier()\n",
        "\n",
        "KNC.fit(x_train_imageC,y_train_imageC)\n",
        "y_prid=KNC.predict(x_test_imageC)\n",
        "print(accuracy_score(y_test_imageC,y_prid)*100)"
      ],
      "metadata": {
        "colab": {
          "base_uri": "https://localhost:8080/"
        },
        "id": "BJolwyiTBvi7",
        "outputId": "b29e24a3-2e32-4af8-a554-5e38b0c7d354"
      },
      "execution_count": 139,
      "outputs": [
        {
          "output_type": "stream",
          "name": "stdout",
          "text": [
            "100.0\n"
          ]
        }
      ]
    },
    {
      "cell_type": "code",
      "source": [
        "pickle.dump(KNC, open('/content/drive/MyDrive/modelC', 'wb'))"
      ],
      "metadata": {
        "id": "c7SQJq3yIojf"
      },
      "execution_count": 140,
      "outputs": []
    },
    {
      "cell_type": "code",
      "source": [
        "KNC2 = KNeighborsClassifier()\n",
        "KNC2.fit(x_train_imageD,y_train_imageD)\n",
        "y_prid=KNC2.predict(x_test_imageD)\n",
        "print(accuracy_score(y_test_imageD,y_prid)*100)"
      ],
      "metadata": {
        "colab": {
          "base_uri": "https://localhost:8080/"
        },
        "id": "3m-wrvXcGegR",
        "outputId": "a23030c0-4665-430f-bd17-04c3f4fc3c5d"
      },
      "execution_count": 141,
      "outputs": [
        {
          "output_type": "stream",
          "name": "stdout",
          "text": [
            "87.5\n"
          ]
        }
      ]
    },
    {
      "cell_type": "code",
      "source": [
        "pickle.dump(KNC2, open('/content/drive/MyDrive/modelD', 'wb'))"
      ],
      "metadata": {
        "id": "Ol0x-E0mI7S3"
      },
      "execution_count": 142,
      "outputs": []
    },
    {
      "cell_type": "code",
      "source": [
        "KNC3 = KNeighborsClassifier()\n",
        "\n",
        "KNC3.fit(x_train_imageE,y_train_imageE)\n",
        "y_prid=KNC3.predict(x_test_imageE)\n",
        "print(accuracy_score(y_test_imageE,y_prid)*100)"
      ],
      "metadata": {
        "colab": {
          "base_uri": "https://localhost:8080/"
        },
        "id": "ys8P08FVCWAj",
        "outputId": "2bd79205-1dd4-4ee8-f4aa-7285d94627ac"
      },
      "execution_count": 143,
      "outputs": [
        {
          "output_type": "stream",
          "name": "stdout",
          "text": [
            "100.0\n"
          ]
        }
      ]
    },
    {
      "cell_type": "code",
      "source": [
        "pickle.dump(KNC3, open('/content/drive/MyDrive/modelE', 'wb'))"
      ],
      "metadata": {
        "id": "XLEWnSzCJKce"
      },
      "execution_count": 144,
      "outputs": []
    }
  ]
}