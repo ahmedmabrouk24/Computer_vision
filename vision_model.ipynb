{
  "nbformat": 4,
  "nbformat_minor": 0,
  "metadata": {
    "colab": {
      "provenance": [],
      "mount_file_id": "1N3QLhWV6Vy5X61spQyzq9_NRatKH-n37",
      "authorship_tag": "ABX9TyNAANsgMiIC99Lzq6m6cNY9",
      "include_colab_link": true
    },
    "kernelspec": {
      "name": "python3",
      "display_name": "Python 3"
    },
    "language_info": {
      "name": "python"
    }
  },
  "cells": [
    {
      "cell_type": "markdown",
      "metadata": {
        "id": "view-in-github",
        "colab_type": "text"
      },
      "source": [
        "<a href=\"https://colab.research.google.com/github/ahmedmabrouk24/Computer_vision/blob/main/vision_model.ipynb\" target=\"_parent\"><img src=\"https://colab.research.google.com/assets/colab-badge.svg\" alt=\"Open In Colab\"/></a>"
      ]
    },
    {
      "cell_type": "code",
      "execution_count": null,
      "metadata": {
        "id": "5jTtdoac2y36"
      },
      "outputs": [],
      "source": [
        "pip install tflearn "
      ]
    },
    {
      "cell_type": "code",
      "source": [
        "from random import shuffle\n",
        "from tqdm import tqdm\n",
        "import tensorflow as tf\n",
        "import pandas as pd\n",
        "from tensorflow.keras import layers,models,Sequential\n",
        "from sklearn.model_selection import train_test_split\n",
        "from keras.models import Sequential\n",
        "from keras.layers import Dense, Dropout, Flatten\n",
        "from keras.layers import Conv2D, MaxPooling2D, BatchNormalization\n",
        "from tensorflow.keras.layers import Dense, Conv2D, Activation, Flatten, Dropout, BatchNormalization, MaxPooling2D\n",
        "from tensorflow.keras.optimizers import Adam\n",
        "from tensorflow.keras.losses import CategoricalCrossentropy, SparseCategoricalCrossentropy\n",
        "from keras.saving.save import load_model\n",
        "import tensorflow_datasets as tfds\n",
        "import matplotlib.pyplot as plt\n",
        "import numpy as np\n",
        "import tflearn\n",
        "from tflearn.layers.conv import conv_2d, max_pool_2d\n",
        "from tflearn.layers.core import input_data, dropout, fully_connected\n",
        "from tflearn.layers.estimator import regression\n",
        "import tensorflow as tf\n",
        "import cv2\n",
        "import random\n",
        "import numpy as np\n",
        "import os\n",
        "import matplotlib.pyplot as plt\n",
        "import imageio\n",
        "import imgaug as ia\n",
        "import imgaug.augmenters as iaa\n",
        "from PIL import Image\n",
        "import shutil\n",
        "import json\n"
      ],
      "metadata": {
        "id": "bZoQwUqZ3TPc"
      },
      "execution_count": 4,
      "outputs": []
    },
    {
      "cell_type": "code",
      "source": [
        "TRAIN_DIR_A = '/content/drive/MyDrive/Computer Vision/Dataset_1/personA/Train'\n",
        "TRAIN_DIR_B = '/content/drive/MyDrive/Computer Vision/Dataset_1/personB/Train'\n",
        "TRAIN_DIR_C = '/content/drive/MyDrive/Computer Vision/Dataset_1/personC/Train'\n",
        "TRAIN_DIR_D = '/content/drive/MyDrive/Computer Vision/Dataset_1/personD/Train'\n",
        "TRAIN_DIR_E = '/content/drive/MyDrive/Computer Vision/Dataset_1/personE/Train'\n",
        "TRAIN_DIR=[]\n",
        "TRAIN_DIR.append(TRAIN_DIR_A)\n",
        "TRAIN_DIR.append(TRAIN_DIR_B)\n",
        "TRAIN_DIR.append(TRAIN_DIR_C)\n",
        "TRAIN_DIR.append(TRAIN_DIR_D)\n",
        "TRAIN_DIR.append(TRAIN_DIR_E)\n",
        "\n",
        "\n",
        "Test_DIR_A = '/content/drive/MyDrive/Computer Vision/Dataset_1/personA/Test'\n",
        "Test_DIR_B = '/content/drive/MyDrive/Computer Vision/Dataset_1/personB/Test'\n",
        "Test_DIR_C = '/content/drive/MyDrive/Computer Vision/Dataset_1/personC/Test'\n",
        "Test_DIR_D = '/content/drive/MyDrive/Computer Vision/Dataset_1/personD/Test'\n",
        "Test_DIR_E = '/content/drive/MyDrive/Computer Vision/Dataset_1/personE/Test'\n",
        "Test_DIR=[]\n",
        "Test_DIR.append(Test_DIR_A)\n",
        "Test_DIR.append(Test_DIR_B)\n",
        "Test_DIR.append(Test_DIR_C)\n",
        "Test_DIR.append(Test_DIR_D)\n",
        "Test_DIR.append(Test_DIR_E)\n",
        "\n",
        "PersonA_train_label='/content/drive/MyDrive/Computer Vision/Dataset_1/personA/Train/personA_SigVerificationTrainLabels.csv'\n",
        "PersonA_test_label='/content/drive/MyDrive/Computer Vision/Dataset_1/personA/Test/personA_SigVerificationTestLabels.csv'\n",
        "\n",
        "PersonB_train_label='/content/drive/MyDrive/Computer Vision/Dataset_1/personA/Train/personB_SigVerificationTrainLabels.csv'\n",
        "PersonB_test_label='/content/drive/MyDrive/Computer Vision/Dataset_1/personA/Test/personB_SigVerificationTestLabels.csv'\n",
        "\n",
        "PersonC_train_label='/content/drive/MyDrive/Computer Vision/Dataset_1/personA/Train/personC_SigVerificationTrainLabels.csv'\n",
        "PersonC_test_label='/content/drive/MyDrive/Computer Vision/Dataset_1/personA/Test/personC_SigVerificationTestLabels.csv'\n",
        "\n",
        "PersonD_train_label='/content/drive/MyDrive/Computer Vision/Dataset_1/personA/Train/personD_SigVerificationTrainLabels.csv'\n",
        "PersonD_test_label='/content/drive/MyDrive/Computer Vision/Dataset_1/personA/Test/personD_SigVerificationTestLabels.csv'\n",
        "\n",
        "PersonE_train_label='/content/drive/MyDrive/Computer Vision/Dataset_1/personA/Train/personE_SigVerificationTrainLabels.csv'\n",
        "PersonE_test_label='/content/drive/MyDrive/Computer Vision/Dataset_1/personA/Test/personE_SigVerificationTestLabels.csv'\n",
        "\n",
        "\n",
        "train_images=[]\n",
        "test_images=[]\n",
        "\n",
        "IMG_SIZE = 200\n",
        "num_classes = 5\n",
        "MODEL_NAME = 'signature_model1'\n"
      ],
      "metadata": {
        "id": "d18f5MQz3bGK"
      },
      "execution_count": 1,
      "outputs": []
    },
    {
      "cell_type": "code",
      "source": [
        "def create_label(image_name):\n",
        "  \n",
        "    img = image_name[0:4]\n",
        "    if img == 'Bask':\n",
        "        return 0\n",
        "    elif img == 'Foot':\n",
        "        return 1"
      ],
      "metadata": {
        "id": "Rz6gkQPg6B_R"
      },
      "execution_count": null,
      "outputs": []
    },
    {
      "cell_type": "code",
      "source": [
        "def create_train_data():\n",
        "    training_data = []\n",
        "\n",
        "    for path_TRAIN_DIR in tqdm(TRAIN_DIR):\n",
        "       for img in os.listdir(path_TRAIN_DIR):\n",
        "        if 'csv' in img:\n",
        "          continue\n",
        "        path = os.path.join(path_TRAIN_DIR, img)\n",
        "        img_data = cv2.imread(path,0) \n",
        "        img_data = cv2.resize(img_data, (IMG_SIZE, IMG_SIZE))\n",
        "\n",
        "        label_list = create_label(img)\n",
        "        training_data.append(, label_list])\n",
        "\n",
        "    random.shuffle(training_data)\n",
        "\n",
        "    return training_data\n"
      ],
      "metadata": {
        "id": "hziSZHeo6Iwg"
      },
      "execution_count": null,
      "outputs": []
    }
  ]
}